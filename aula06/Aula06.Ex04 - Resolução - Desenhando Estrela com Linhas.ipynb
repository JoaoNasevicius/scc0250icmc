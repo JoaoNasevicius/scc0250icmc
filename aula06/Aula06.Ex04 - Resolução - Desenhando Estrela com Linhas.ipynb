{
 "cells": [
  {
   "cell_type": "markdown",
   "metadata": {},
   "source": [
    "# Aula06.Ex04 - Resolução - Desenhando Estrela com Linhas\n",
    "\n",
    "Resolução do exercício proposto na Aula04.Ex03: \"modificar o código para desenhar uma estrela usando apenas primitivas de linha\"."
   ]
  },
  {
   "cell_type": "markdown",
   "metadata": {},
   "source": [
    "### Primeiro, vamos importar as bibliotecas necessárias.\n",
    "Verifique no código anterior um script para instalar as dependências necessárias (OpenGL e GLFW) antes de prosseguir."
   ]
  },
  {
   "cell_type": "code",
   "execution_count": 1,
   "metadata": {},
   "outputs": [],
   "source": [
    "import glfw\n",
    "from OpenGL.GL import *\n",
    "import OpenGL.GL.shaders\n",
    "import numpy as np"
   ]
  },
  {
   "cell_type": "markdown",
   "metadata": {},
   "source": [
    "### Inicializando janela"
   ]
  },
  {
   "cell_type": "code",
   "execution_count": 2,
   "metadata": {},
   "outputs": [],
   "source": [
    "glfw.init()\n",
    "glfw.window_hint(glfw.VISIBLE, glfw.FALSE);\n",
    "window = glfw.create_window(650, 650, \"Desenhando estrela com linhas\", None, None)\n",
    "glfw.make_context_current(window)"
   ]
  },
  {
   "cell_type": "markdown",
   "metadata": {},
   "source": [
    "### Capturando eventos de teclado e mouse"
   ]
  },
  {
   "cell_type": "code",
   "execution_count": 3,
   "metadata": {},
   "outputs": [],
   "source": [
    "def key_event(window,key,scancode,action,mods):\n",
    "    print('[key event] key=',key)\n",
    "    print('[key event] scancode=',scancode)\n",
    "    print('[key event] action=',action)\n",
    "    print('[key event] mods=',mods)\n",
    "    print('-------')\n",
    "    \n",
    "glfw.set_key_callback(window,key_event)\n",
    "\n",
    "def mouse_event(window,button,action,mods):\n",
    "    print('[mouse event] button=',button)\n",
    "    print('[mouse event] action=',action)\n",
    "    print('[mouse event] mods=',mods)\n",
    "    print('-------')\n",
    "glfw.set_mouse_button_callback(window,mouse_event)"
   ]
  },
  {
   "cell_type": "markdown",
   "metadata": {},
   "source": [
    "### GLSL (OpenGL Shading Language)\n",
    "\n",
    "Aqui veremos nosso primeiro código GLSL.\n",
    "\n",
    "É uma linguagem de shading de alto nível baseada na linguagem de programação C.\n",
    "\n",
    "Nós estamos escrevendo código GLSL como se \"strings\" de uma variável (mas podemos ler de arquivos texto). Esse código, depois, terá que ser compilado e linkado ao nosso programa. \n",
    "\n",
    "Iremos aprender GLSL conforme a necessidade do curso. Usarmos uma versão do GLSL mais antiga, compatível com muitos dispositivos."
   ]
  },
  {
   "cell_type": "markdown",
   "metadata": {},
   "source": [
    "### GLSL para Vertex Shader\n",
    "\n",
    "No Pipeline programável, podemos interagir com Vertex Shaders.\n",
    "\n",
    "No código abaixo, estamos fazendo o seguinte:\n",
    "\n",
    "* Definindo uma variável chamada position do tipo vec2.\n",
    "* Usamos vec2, pois nosso programa (na CPU) irá enviar apenas duas coordenadas para plotar um ponto. Podemos mandar três coordenadas (vec3) e até mesmo quatro coordenadas (vec4).\n",
    "* void main() é o ponto de entrada do nosso programa (função principal)\n",
    "* gl_Position é uma variável especial do GLSL. Variáveis que começam com 'gl_' são desse tipo. Nesse caso, determina a posição de um vértice. Observe que todo vértice tem 4 coordenadas, por isso nós combinamos nossa variável vec2 com uma variável vec4."
   ]
  },
  {
   "cell_type": "code",
   "execution_count": 4,
   "metadata": {},
   "outputs": [],
   "source": [
    "vertex_code = \"\"\"\n",
    "        attribute vec2 position;\n",
    "        void main(){\n",
    "            gl_Position = vec4(position,0.0,1.0);\n",
    "        }\n",
    "        \"\"\""
   ]
  },
  {
   "cell_type": "markdown",
   "metadata": {},
   "source": [
    "### GLSL para Fragment Shader\n",
    "\n",
    "No Pipeline programável, podemos interagir com Fragment Shaders.\n",
    "\n",
    "No código abaixo, estamos fazendo o seguinte:\n",
    "\n",
    "* void main() é o ponto de entrada do nosso programa (função principal)\n",
    "* gl_FragColor é uma variável especial do GLSL. Variáveis que começam com 'gl_' são desse tipo. Nesse caso, determina a cor de um fragmento. Nesse caso é um ponto, mas poderia ser outro objeto (ponto, linha, triangulos, etc)."
   ]
  },
  {
   "cell_type": "code",
   "execution_count": 5,
   "metadata": {},
   "outputs": [],
   "source": [
    "fragment_code = \"\"\"\n",
    "        void main(){\n",
    "            gl_FragColor = vec4(0.0, 0.0, 0.0, 1.0);\n",
    "        }\n",
    "        \"\"\""
   ]
  },
  {
   "cell_type": "markdown",
   "metadata": {},
   "source": [
    "### Requisitando slot para a GPU para nossos programas Vertex e Fragment Shaders"
   ]
  },
  {
   "cell_type": "code",
   "execution_count": 6,
   "metadata": {},
   "outputs": [],
   "source": [
    "# Request a program and shader slots from GPU\n",
    "program  = glCreateProgram()\n",
    "vertex   = glCreateShader(GL_VERTEX_SHADER)\n",
    "fragment = glCreateShader(GL_FRAGMENT_SHADER)\n"
   ]
  },
  {
   "cell_type": "markdown",
   "metadata": {},
   "source": [
    "### Associando nosso código-fonte aos slots solicitados"
   ]
  },
  {
   "cell_type": "code",
   "execution_count": 7,
   "metadata": {},
   "outputs": [],
   "source": [
    "# Set shaders source\n",
    "glShaderSource(vertex, vertex_code)\n",
    "glShaderSource(fragment, fragment_code)"
   ]
  },
  {
   "cell_type": "markdown",
   "metadata": {},
   "source": [
    "### Compilando o Vertex Shader\n",
    "\n",
    "Se há algum erro em nosso programa Vertex Shader, nosso app para por aqui."
   ]
  },
  {
   "cell_type": "code",
   "execution_count": 8,
   "metadata": {},
   "outputs": [],
   "source": [
    "# Compile shaders\n",
    "glCompileShader(vertex)\n",
    "if not glGetShaderiv(vertex, GL_COMPILE_STATUS):\n",
    "    error = glGetShaderInfoLog(vertex).decode()\n",
    "    print(error)\n",
    "    raise RuntimeError(\"Erro de compilacao do Vertex Shader\")\n"
   ]
  },
  {
   "cell_type": "markdown",
   "metadata": {},
   "source": [
    "### Compilando o Fragment Shader\n",
    "\n",
    "Se há algum erro em nosso programa Fragment Shader, nosso app para por aqui."
   ]
  },
  {
   "cell_type": "code",
   "execution_count": 9,
   "metadata": {},
   "outputs": [],
   "source": [
    "glCompileShader(fragment)\n",
    "if not glGetShaderiv(fragment, GL_COMPILE_STATUS):\n",
    "    error = glGetShaderInfoLog(fragment).decode()\n",
    "    print(error)\n",
    "    raise RuntimeError(\"Erro de compilacao do Fragment Shader\")"
   ]
  },
  {
   "cell_type": "markdown",
   "metadata": {},
   "source": [
    "### Associando os programas compilado ao programa principal"
   ]
  },
  {
   "cell_type": "code",
   "execution_count": 10,
   "metadata": {},
   "outputs": [],
   "source": [
    "# Attach shader objects to the program\n",
    "glAttachShader(program, vertex)\n",
    "glAttachShader(program, fragment)\n"
   ]
  },
  {
   "cell_type": "markdown",
   "metadata": {},
   "source": [
    "### Linkagem do programa"
   ]
  },
  {
   "cell_type": "code",
   "execution_count": 11,
   "metadata": {},
   "outputs": [],
   "source": [
    "# Build program\n",
    "glLinkProgram(program)\n",
    "if not glGetProgramiv(program, GL_LINK_STATUS):\n",
    "    print(glGetProgramInfoLog(program))\n",
    "    raise RuntimeError('Linking error')\n",
    "    \n",
    "# Make program the default program\n",
    "glUseProgram(program)"
   ]
  },
  {
   "cell_type": "markdown",
   "metadata": {},
   "source": [
    "### Preparando dados para enviar a GPU\n",
    "\n",
    "Nesse momento, nós compilamos nossos Vertex e Program Shaders para que a GPU possa processá-los.\n",
    "\n",
    "Por outro lado, as informações de vértices geralmente estão na CPU e devem ser transmitidas para a GPU.\n"
   ]
  },
  {
   "cell_type": "code",
   "execution_count": 12,
   "metadata": {},
   "outputs": [],
   "source": [
    "# preparando espaço para 5 vértices usando 2 coordenadas (x,y)\n",
    "vertices = np.zeros(5, [(\"position\", np.float32, 2)])"
   ]
  },
  {
   "cell_type": "markdown",
   "metadata": {},
   "source": [
    "Existem diferentes formas para desenhar triângulos. Nós vamos usar uma estratégia baseada na circuferência. [https://www.instructables.com/id/How-to-draw-a-5-point-star/]\n",
    "\n",
    "#### Etapa 1. Considere um círculo e seu centro\n",
    "\n",
    "![Etapa 1](data:image/png;base64,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)\n",
    "\n",
    "#### Etapa 2. Ache 5 pontos na circunferência (estrela de 5 pontas = 72 graus)\n",
    "![Etapa 2](data:image/png;base64,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)\n",
    "\n",
    "#### Etapa 3. Conecte os pontos em uma ordem predefinida\n",
    "![Etapa 3](data:image/png;base64,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)\n",
    "\n",
    "#### Etapa 4. Conecte os pontos em uma ordem predefinida\n",
    "![Etapa 4](data:image/png;base64,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)\n",
    "\n",
    "#### Etapa 5. Conecte os pontos em uma ordem predefinida\n",
    "![Etapa 5](data:image/png;base64,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)"
   ]
  },
  {
   "cell_type": "code",
   "execution_count": 13,
   "metadata": {},
   "outputs": [
    {
     "name": "stdout",
     "output_type": "stream",
     "text": [
      "[([ 3.0616171e-17,  5.0000000e-01],) ([ 2.9389262e-01, -4.0450850e-01],)\n",
      " ([-4.7552827e-01,  1.5450850e-01],) ([ 4.7552827e-01,  1.5450850e-01],)\n",
      " ([-2.9389262e-01, -4.0450850e-01],)]\n"
     ]
    }
   ],
   "source": [
    "import math\n",
    "\n",
    "PI = math.pi\n",
    "r = 0.5 # raio do nosso círculo\n",
    "\n",
    "angulo_v1 = 90 - 0*72\n",
    "rad_v1 = math.radians(angulo_v1)\n",
    "vertices['position'][0] = [ r*math.cos(rad_v1), r*math.sin(rad_v1) ]\n",
    "\n",
    "angulo_v2 = 90 - 2*72 \n",
    "rad_v2= math.radians(angulo_v2)\n",
    "vertices['position'][1] = [ r*math.cos(rad_v2), r*math.sin(rad_v2) ]\n",
    "\n",
    "angulo_v3 = 90 - 4*72 \n",
    "rad_v3= math.radians(angulo_v3)\n",
    "vertices['position'][2] = [ r*math.cos(rad_v3), r*math.sin(rad_v3) ]\n",
    "                  \n",
    "angulo_v4 = 90 - 1*72\n",
    "rad_v4 = math.radians(angulo_v4)\n",
    "vertices['position'][3] = [ r*math.cos(rad_v4), r*math.sin(rad_v4) ]\n",
    "\n",
    "angulo_v5 = 90 - 3*72 \n",
    "rad_v5 = math.radians(angulo_v5)\n",
    "vertices['position'][4] = [ r*math.cos(rad_v5), r*math.sin(rad_v5) ]\n",
    "\n",
    "print(vertices)"
   ]
  },
  {
   "cell_type": "markdown",
   "metadata": {},
   "source": [
    "### Para enviar nossos dados da CPU para a GPU, precisamos requisitar um slot."
   ]
  },
  {
   "cell_type": "code",
   "execution_count": 14,
   "metadata": {},
   "outputs": [],
   "source": [
    "# Request a buffer slot from GPU\n",
    "buffer = glGenBuffers(1)\n",
    "# Make this buffer the default one\n",
    "glBindBuffer(GL_ARRAY_BUFFER, buffer)\n"
   ]
  },
  {
   "cell_type": "markdown",
   "metadata": {},
   "source": [
    "### Abaixo, nós enviamos todo o conteúdo da variável vertices.\n",
    "\n",
    "Veja os parâmetros da função glBufferData [https://www.khronos.org/registry/OpenGL-Refpages/gl4/html/glBufferData.xhtml]"
   ]
  },
  {
   "cell_type": "code",
   "execution_count": 15,
   "metadata": {},
   "outputs": [],
   "source": [
    "# Upload data\n",
    "glBufferData(GL_ARRAY_BUFFER, vertices.nbytes, vertices, GL_DYNAMIC_DRAW)\n",
    "glBindBuffer(GL_ARRAY_BUFFER, buffer)"
   ]
  },
  {
   "cell_type": "markdown",
   "metadata": {},
   "source": [
    "### Associando variáveis do programa GLSL (Vertex Shaders) com nossos dados\n",
    "\n",
    "Primeiro, definimos o byte inicial e o offset dos dados."
   ]
  },
  {
   "cell_type": "code",
   "execution_count": 16,
   "metadata": {},
   "outputs": [],
   "source": [
    "# Bind the position attribute\n",
    "# --------------------------------------\n",
    "stride = vertices.strides[0]\n",
    "offset = ctypes.c_void_p(0)\n"
   ]
  },
  {
   "cell_type": "markdown",
   "metadata": {},
   "source": [
    "Em seguida, soliciamos à GPU a localização da variável \"position\" (que guarda coordenadas dos nossos vértices). Nós definimos essa variável no Vertex Shader."
   ]
  },
  {
   "cell_type": "code",
   "execution_count": 17,
   "metadata": {},
   "outputs": [],
   "source": [
    "loc = glGetAttribLocation(program, \"position\")\n",
    "glEnableVertexAttribArray(loc)"
   ]
  },
  {
   "cell_type": "markdown",
   "metadata": {},
   "source": [
    "A partir da localização anterior, nós indicamos à GPU onde está o conteúdo (via posições stride/offset) para a variável position (aqui identificada na posição loc).\n",
    "\n",
    "Outros parâmetros:\n",
    "\n",
    "* Definimos que possui duas coordenadas\n",
    "* Que cada coordenada é do tipo float (GL_FLOAT)\n",
    "* Que não se deve normalizar a coordenada (False)\n",
    "\n",
    "Mais detalhes: https://www.khronos.org/registry/OpenGL-Refpages/gl4/html/glVertexAttribPointer.xhtml"
   ]
  },
  {
   "cell_type": "code",
   "execution_count": 18,
   "metadata": {},
   "outputs": [],
   "source": [
    "glVertexAttribPointer(loc, 2, GL_FLOAT, False, stride, offset)"
   ]
  },
  {
   "cell_type": "markdown",
   "metadata": {},
   "source": [
    "### Nesse momento, nós exibimos a janela!\n"
   ]
  },
  {
   "cell_type": "code",
   "execution_count": 19,
   "metadata": {},
   "outputs": [],
   "source": [
    "glfw.show_window(window)"
   ]
  },
  {
   "cell_type": "markdown",
   "metadata": {},
   "source": [
    "### Loop principal da janela.\n",
    "Enquanto a janela não for fechada, esse laço será executado. É neste espaço que trabalhamos com algumas interações com a OpenGL.\n",
    "\n",
    "A novidade agora é a função glDrawArrays()\n",
    "\n",
    "Tal função recebe o tipo de primitiva (GL_LINES), o índice inicial do array de vértices (vamos mostrar todos os três vértices, por isso começamos com 0) e a quantidade de vértices ( len(vertices) )."
   ]
  },
  {
   "cell_type": "code",
   "execution_count": 20,
   "metadata": {},
   "outputs": [],
   "source": [
    "while not glfw.window_should_close(window):\n",
    "\n",
    "    glfw.poll_events() \n",
    "\n",
    "    \n",
    "    glClear(GL_COLOR_BUFFER_BIT) \n",
    "    glClearColor(1.0, 1.0, 1.0, 1.0)\n",
    "    \n",
    "    \n",
    "    glDrawArrays(GL_LINE_LOOP, 0, len(vertices))\n",
    "\n",
    "    glfw.swap_buffers(window)\n",
    "\n",
    "glfw.terminate()"
   ]
  },
  {
   "cell_type": "markdown",
   "metadata": {},
   "source": [
    "# Exercício\n",
    "\n",
    "Modifique esse código para desenhar uma estrela usando apenas primitivas de linha (escolha a mais adequada).\n",
    "\n",
    "Veja sobre GL_LINE_STRIP e GL_LINE_LOOP nos slides.\n"
   ]
  }
 ],
 "metadata": {
  "finalized": {
   "timestamp": 1583114796072,
   "trusted": true
  },
  "kernelspec": {
   "display_name": "Python 3",
   "language": "python",
   "name": "python3"
  },
  "language_info": {
   "codemirror_mode": {
    "name": "ipython",
    "version": 3
   },
   "file_extension": ".py",
   "mimetype": "text/x-python",
   "name": "python",
   "nbconvert_exporter": "python",
   "pygments_lexer": "ipython3",
   "version": "3.7.1"
  }
 },
 "nbformat": 4,
 "nbformat_minor": 2
}
