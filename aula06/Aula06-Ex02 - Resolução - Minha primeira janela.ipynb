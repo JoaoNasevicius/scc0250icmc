{
 "cells": [
  {
   "cell_type": "markdown",
   "metadata": {},
   "source": [
    "# Aula06-Ex02 - Resolução - Minha primeira janela\n",
    "\n",
    "Resolução do exercício proposto na Aula04.Ex01: Modificar o código para que a janela mude de cor dinamicamente, em cada iteração do laço principal\n",
    "\n",
    "Neste exemplo, nós utilizaremos a biblioteca GLFW para construir nossa primeira janela.\n",
    "\n",
    "Esta janela será capaz de processar instruções OpenGL"
   ]
  },
  {
   "cell_type": "markdown",
   "metadata": {},
   "source": [
    "### Primeiro, vamos importar as bibliotecas necessárias.\n",
    "Verifique no código anterior um script para instalar as dependências necessárias (OpenGL e GLFW) antes de prosseguir."
   ]
  },
  {
   "cell_type": "code",
   "execution_count": 25,
   "metadata": {},
   "outputs": [],
   "source": [
    "import glfw\n",
    "from OpenGL.GL import *\n",
    "import OpenGL.GL.shaders\n",
    "import numpy as np"
   ]
  },
  {
   "cell_type": "markdown",
   "metadata": {},
   "source": [
    "### Inicializando o sistema de janela GLFW"
   ]
  },
  {
   "cell_type": "code",
   "execution_count": 26,
   "metadata": {},
   "outputs": [
    {
     "data": {
      "text/plain": [
       "1"
      ]
     },
     "execution_count": 26,
     "metadata": {},
     "output_type": "execute_result"
    }
   ],
   "source": [
    "glfw.init()"
   ]
  },
  {
   "cell_type": "markdown",
   "metadata": {},
   "source": [
    "### Criando a primeira janela.\n",
    "* Linha 1: indica que a janela será criada mas NÃO será exibida imediatamente.\n",
    "* Linha 2: cria a janela com tamanho (width e height) e título da janela. Outros parâmetros definem se a janela será exibida em modo full (tela inteira) e controles de monitor.\n",
    "* Linha 3: a janela que criamos se a principal no momento (contexto)\n",
    "\n",
    "Mais detalhes: https://www.glfw.org/docs/latest/window_guide.html"
   ]
  },
  {
   "cell_type": "code",
   "execution_count": 27,
   "metadata": {},
   "outputs": [],
   "source": [
    "glfw.window_hint(glfw.VISIBLE, glfw.FALSE);\n",
    "window = glfw.create_window(720, 600, \"Minha Primeira Janela\", None, None)\n",
    "glfw.make_context_current(window)"
   ]
  },
  {
   "cell_type": "markdown",
   "metadata": {},
   "source": [
    "### Função para capturar eventos de teclado.\n",
    "Em determinado momento será interessante tomar decisões com base em entrada do teclado. A função (key_event) é genérica e apenas imprime no terminal quais teclas estão sendo pressionadas."
   ]
  },
  {
   "cell_type": "code",
   "execution_count": 28,
   "metadata": {},
   "outputs": [],
   "source": [
    "def key_event(window,key,scancode,action,mods):\n",
    "    print('[key event] key=',key)\n",
    "    print('[key event] scancode=',scancode)\n",
    "    print('[key event] action=',action)\n",
    "    print('[key event] mods=',mods)\n",
    "    print('-------')\n",
    "    \n",
    "glfw.set_key_callback(window,key_event)"
   ]
  },
  {
   "cell_type": "markdown",
   "metadata": {},
   "source": [
    "### Função para capturar eventos de mouse.\n",
    "Cliques do mouse também serão importantes. A função (mouse_event) apenas exibe qual botão do mouse foi pressionado. De forma análoga, também é possível coletar eventos de coordenadas do ponteiro/cursor do mouse.\n",
    "\n",
    "Mais detalhes: https://www.glfw.org/docs/3.3.2/input_guide.html"
   ]
  },
  {
   "cell_type": "code",
   "execution_count": 29,
   "metadata": {},
   "outputs": [],
   "source": [
    "def mouse_event(window,button,action,mods):\n",
    "    print('[mouse event] button=',button)\n",
    "    print('[mouse event] action=',action)\n",
    "    print('[mouse event] mods=',mods)\n",
    "    print('-------')\n",
    "glfw.set_mouse_button_callback(window,mouse_event)"
   ]
  },
  {
   "cell_type": "markdown",
   "metadata": {},
   "source": [
    "### Nesse momento, nós exibimos a janela!"
   ]
  },
  {
   "cell_type": "code",
   "execution_count": 30,
   "metadata": {},
   "outputs": [],
   "source": [
    "glfw.show_window(window)"
   ]
  },
  {
   "cell_type": "markdown",
   "metadata": {},
   "source": [
    "### Loop principal da janela.\n",
    "Enquanto a janela não for fechada, esse laço será executado. É neste espaço que trabalhamos com algumas interações com a OpenGL."
   ]
  },
  {
   "cell_type": "code",
   "execution_count": 31,
   "metadata": {},
   "outputs": [],
   "source": [
    "# definindo a cor inicial da janela\n",
    "R = 1.0\n",
    "G = 0.5\n",
    "B = 1.0\n",
    "\n",
    "# incrementos em cada canal\n",
    "R_inc = 0.01\n",
    "G_inc = 0.01\n",
    "B_inc = 0.01\n",
    "\n",
    "while not glfw.window_should_close(window):\n",
    "\n",
    "    \n",
    "    # funcao interna do glfw para gerenciar eventos de mouse, teclado, etc\n",
    "    glfw.poll_events() \n",
    "\n",
    "    # limpa a cor de fundo da janela e preenche com outra no sistema RGBA\n",
    "    glClear(GL_COLOR_BUFFER_BIT)\n",
    "    \n",
    "    # definindo a cor da janela\n",
    "    if R > 1.0: R_inc = -R_inc\n",
    "    if R < 0: R_inc = -R_inc\n",
    "        \n",
    "    if G > 1.0: G_inc = -G_inc\n",
    "    if G < 0: G_inc = -G_inc\n",
    "        \n",
    "    if B > 1.0: B_inc = -B_inc\n",
    "    if B < 0: B_inc = -B_inc\n",
    "        \n",
    "    R += R_inc\n",
    "    G += G_inc\n",
    "    B += B_inc\n",
    "    \n",
    "    \n",
    "    glClearColor(R, G, B, 1.0)\n",
    "\n",
    "    # gerencia troca de dados entre janela e o OpenGL\n",
    "    glfw.swap_buffers(window)\n",
    "\n"
   ]
  },
  {
   "cell_type": "markdown",
   "metadata": {},
   "source": [
    "### Vamos finalizar o sistema de janela GLFW\n",
    "O sistema é finalizado assim que a janela é fechada e/ou o laço acima é interrompido."
   ]
  },
  {
   "cell_type": "code",
   "execution_count": 32,
   "metadata": {},
   "outputs": [],
   "source": [
    "glfw.terminate()"
   ]
  }
 ],
 "metadata": {
  "kernelspec": {
   "display_name": "Python 3",
   "language": "python",
   "name": "python3"
  },
  "language_info": {
   "codemirror_mode": {
    "name": "ipython",
    "version": 3
   },
   "file_extension": ".py",
   "mimetype": "text/x-python",
   "name": "python",
   "nbconvert_exporter": "python",
   "pygments_lexer": "ipython3",
   "version": "3.7.1"
  }
 },
 "nbformat": 4,
 "nbformat_minor": 2
}
