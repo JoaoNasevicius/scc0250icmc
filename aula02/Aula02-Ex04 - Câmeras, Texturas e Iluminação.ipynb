{
 "cells": [
  {
   "cell_type": "markdown",
   "metadata": {},
   "source": [
    "# Aula02-Ex04 - Câmeras, Texturas e Iluminação\n",
    "\n",
    "Na Aula 02, nivelamento de conceitos de computação gráfica, nós discutimos sobre câmeras, texturas e iluminação.\n",
    "\n",
    "Vamos ver alguns exemplos?"
   ]
  },
  {
   "cell_type": "markdown",
   "metadata": {},
   "source": [
    "## Primeiro vamos instalar alguns pacotes!\n",
    "OBS: esses pacotes tem a única finalidade de demonstração visual. Não devem ser usados ao longo da disciplina para desenvolvimento dos trabalhos."
   ]
  },
  {
   "cell_type": "code",
   "execution_count": null,
   "metadata": {},
   "outputs": [],
   "source": [
    "import io\n",
    "import zipfile\n",
    "import urllib.request as urllib\n",
    "from zipfile import ZipFile\n",
    "import importlib\n",
    "import requests \n",
    "!pip install vispy \n",
    "\n",
    "url = \"https://github.com/rmarcacini/scc0250icmc/archive/master.zip\"\n",
    "with open('master.zip', 'wb') as f:\n",
    "    resp = requests.get(url, verify=False)\n",
    "    f.write(resp.content)\n",
    "\n",
    "with ZipFile('master.zip', 'r') as zipObj:\n",
    "    # Extract all the contents of zip file in different directory\n",
    "    zipObj.extractall('dscc0250')"
   ]
  },
  {
   "cell_type": "markdown",
   "metadata": {},
   "source": [
    "### Vamos ver o efeito de texturas, câmeras e iluminação em algumas esferas."
   ]
  },
  {
   "cell_type": "code",
   "execution_count": 4,
   "metadata": {},
   "outputs": [
    {
     "data": {
      "application/vnd.jupyter.widget-view+json": {
       "model_id": "c67b10f9b65c412dab3d323c8898ea73",
       "version_major": 2,
       "version_minor": 0
      },
      "text/plain": [
       "VispyWidget(height=550, width=800)"
      ]
     },
     "metadata": {},
     "output_type": "display_data"
    }
   ],
   "source": [
    "mod = importlib.import_module(\"dscc0250.scc0250icmc-master.aula02.exemplos_vispy_cameras_texturas_iluminacao\")\n",
    "win = mod.Canvas()\n",
    "win.app.run()"
   ]
  }
 ],
 "metadata": {
  "finalized": {
   "timestamp": 1582828713002,
   "trusted": true
  },
  "kernelspec": {
   "display_name": "Python 3",
   "language": "python",
   "name": "python3"
  },
  "language_info": {
   "codemirror_mode": {
    "name": "ipython",
    "version": 3
   },
   "file_extension": ".py",
   "mimetype": "text/x-python",
   "name": "python",
   "nbconvert_exporter": "python",
   "pygments_lexer": "ipython3",
   "version": "3.7.1"
  }
 },
 "nbformat": 4,
 "nbformat_minor": 2
}
