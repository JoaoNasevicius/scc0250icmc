{
 "cells": [
  {
   "cell_type": "markdown",
   "metadata": {},
   "source": [
    "# Aula02.Ex03 - Primitivas Geométricas\n",
    "\n",
    "Na Aula 02, nivelamento de conceitos de computação gráfica, nós discutimos sobre as primitivas geométricas em computação gráfica. Nós vimos que objetos complexos podem ser modelados a partir das primitivas mais simples.\n",
    "\n",
    "Vamos ver alguns exemplos em 2D?"
   ]
  },
  {
   "cell_type": "markdown",
   "metadata": {},
   "source": [
    "## Primeiro vamos instalar alguns pacotes!\n",
    "OBS: esses pacotes tem a única finalidade de demonstração visual. Não devem ser usados ao longo da disciplina para desenvolvimento dos trabalhos."
   ]
  },
  {
   "cell_type": "code",
   "execution_count": 2,
   "metadata": {},
   "outputs": [
    {
     "name": "stdout",
     "output_type": "stream",
     "text": [
      "Requirement already satisfied: vispy in /exp/anaconda/3.7/framework/lib/python3.7/site-packages (0.6.4)\r\n",
      "Requirement already satisfied: numpy in /exp/anaconda/3.7/framework/lib/python3.7/site-packages (from vispy) (1.17.4)\r\n",
      "Requirement already satisfied: freetype-py in /exp/anaconda/3.7/framework/lib/python3.7/site-packages (from vispy) (2.1.0.post1)\r\n"
     ]
    },
    {
     "name": "stderr",
     "output_type": "stream",
     "text": [
      "2020-02-27 15:37:50,568 [7001] WARNING  py.warnings:99: [JupyterRequire] /exp/anaconda/3.7/framework/lib/python3.7/site-packages/urllib3/connectionpool.py:847: InsecureRequestWarning: Unverified HTTPS request is being made. Adding certificate verification is strongly advised. See: https://urllib3.readthedocs.io/en/latest/advanced-usage.html#ssl-warnings\n",
      "  InsecureRequestWarning)\n",
      "\n",
      "2020-02-27 15:37:50,652 [7001] WARNING  py.warnings:99: [JupyterRequire] /exp/anaconda/3.7/framework/lib/python3.7/site-packages/urllib3/connectionpool.py:847: InsecureRequestWarning: Unverified HTTPS request is being made. Adding certificate verification is strongly advised. See: https://urllib3.readthedocs.io/en/latest/advanced-usage.html#ssl-warnings\n",
      "  InsecureRequestWarning)\n",
      "\n"
     ]
    }
   ],
   "source": [
    "import io\n",
    "import zipfile\n",
    "import urllib.request as urllib\n",
    "from zipfile import ZipFile\n",
    "import importlib\n",
    "import requests \n",
    "!pip install vispy \n",
    "\n",
    "url = \"https://github.com/rmarcacini/scc0250icmc/archive/master.zip\"\n",
    "with open('master.zip', 'wb') as f:\n",
    "    resp = requests.get(url, verify=False)\n",
    "    f.write(resp.content)\n",
    "\n",
    "with ZipFile('master.zip', 'r') as zipObj:\n",
    "    # Extract all the contents of zip file in different directory\n",
    "    zipObj.extractall('dscc0250')"
   ]
  },
  {
   "cell_type": "markdown",
   "metadata": {},
   "source": [
    "### Vamos ver algumas imagens 2D que podemos gerar a partir das primitivas"
   ]
  },
  {
   "cell_type": "code",
   "execution_count": 23,
   "metadata": {},
   "outputs": [
    {
     "data": {
      "application/vnd.jupyter.widget-view+json": {
       "model_id": "857729eac1764a3da718adc9bccb5927",
       "version_major": 2,
       "version_minor": 0
      },
      "text/plain": [
       "VispyWidget(height=800, width=800)"
      ]
     },
     "metadata": {},
     "output_type": "display_data"
    }
   ],
   "source": [
    "mod = importlib.import_module(\"dscc0250.scc0250icmc-master.aula02.exemplos_vispy_primitivas\")\n",
    "win = mod.Canvas()\n",
    "win.app.run()"
   ]
  }
 ],
 "metadata": {
  "kernelspec": {
   "display_name": "Python 3",
   "language": "python",
   "name": "python3"
  },
  "language_info": {
   "codemirror_mode": {
    "name": "ipython",
    "version": 3
   },
   "file_extension": ".py",
   "mimetype": "text/x-python",
   "name": "python",
   "nbconvert_exporter": "python",
   "pygments_lexer": "ipython3",
   "version": "3.7.1"
  }
 },
 "nbformat": 4,
 "nbformat_minor": 2
}
